{
 "cells": [
  {
   "cell_type": "code",
   "execution_count": 1,
   "metadata": {},
   "outputs": [],
   "source": [
    "import warnings\n",
    "warnings.filterwarnings('ignore')\n",
    "\n",
    "import sys\n",
    "import numpy as np\n",
    "np.set_printoptions(threshold=sys.maxsize)\n",
    "\n",
    "import pandas as pd\n",
    "import un_transforms as tr\n",
    "\n",
    "#importing the dataset\n",
    "mixed = pd.read_csv(\"./data/sup_final_copy2.csv\", sep=\",\", parse_dates=[0,3,5,13,14])"
   ]
  },
  {
   "cell_type": "code",
   "execution_count": 2,
   "metadata": {},
   "outputs": [],
   "source": [
    "#importing the attribute transformer class\n",
    "import attributeTransformer as attrTr\n",
    "from sklearn import metrics"
   ]
  },
  {
   "cell_type": "code",
   "execution_count": 3,
   "metadata": {},
   "outputs": [],
   "source": [
    "#Rule Based Algorithm - CN2Learner\n",
    "import orangedf\n",
    "import Orange as orange\n",
    "from Orange.data import Table, Domain, ContinuousVariable, DiscreteVariable\n",
    "\n",
    "newtrFC = attrTr.TransformFeatureColumns(mixed)\n",
    "newtrFC.splitData(0.2)"
   ]
  },
  {
   "cell_type": "code",
   "execution_count": 84,
   "metadata": {},
   "outputs": [],
   "source": [
    "XTrain_ = newtrFC.spoolOrangeTrainingData()\n",
    "XTest_ = newtrFC.spoolOrangeTestData()"
   ]
  },
  {
   "cell_type": "code",
   "execution_count": 64,
   "metadata": {},
   "outputs": [],
   "source": [
    "XTest_ = newtrFC.spoolOrangeTestData()"
   ]
  },
  {
   "cell_type": "code",
   "execution_count": 44,
   "metadata": {},
   "outputs": [
    {
     "name": "stdout",
     "output_type": "stream",
     "text": [
      "<class 'pandas.core.frame.DataFrame'>\n",
      "RangeIndex: 2055 entries, 0 to 2054\n",
      "Data columns (total 15 columns):\n",
      "business_age                    2055 non-null float64\n",
      "business_first_trnx_age         2055 non-null float64\n",
      "is_registered                   2055 non-null float64\n",
      "is_starter                      2055 non-null float64\n",
      "customer_age                    2055 non-null float64\n",
      "customer_first_trnx_age         2055 non-null float64\n",
      "daily_trans_instrument_count    2055 non-null float64\n",
      "is_local_instrument             2055 non-null float64\n",
      "paid_with_card                  2055 non-null float64\n",
      "paid_with_bank                  2055 non-null float64\n",
      "paid_with_other                 2055 non-null float64\n",
      "amount                          2055 non-null float64\n",
      "currency                        2055 non-null object\n",
      "bank                            2055 non-null object\n",
      "label                           2055 non-null object\n",
      "dtypes: float64(12), object(3)\n",
      "memory usage: 240.9+ KB\n"
     ]
    }
   ],
   "source": [
    "XTest_.info()"
   ]
  },
  {
   "cell_type": "code",
   "execution_count": 5,
   "metadata": {},
   "outputs": [],
   "source": [
    "XTrainTable = orangedf.df2table(XTrain_)\n",
    "target = Domain(XTrainTable.domain[:14], XTrainTable.domain[14])"
   ]
  },
  {
   "cell_type": "code",
   "execution_count": 6,
   "metadata": {},
   "outputs": [],
   "source": [
    "XTrainTable_ = Table.from_table(target,XTrainTable)"
   ]
  },
  {
   "cell_type": "code",
   "execution_count": 9,
   "metadata": {},
   "outputs": [
    {
     "name": "stdout",
     "output_type": "stream",
     "text": [
      "Accuracy: 0.886\n",
      "AUC:      0.940\n"
     ]
    }
   ],
   "source": [
    "from Orange.evaluation import CrossValidation, scoring\n",
    "\n",
    "orCv2 = CrossValidation(XTrainTable_, [orange.classification.CN2Learner()], k=10)\n",
    "print(\"Accuracy: %.3f\" % scoring.CA(orCv2)[0])\n",
    "print(\"AUC:      %.3f\" % scoring.AUC(orCv2)[0])"
   ]
  },
  {
   "cell_type": "code",
   "execution_count": 10,
   "metadata": {},
   "outputs": [],
   "source": [
    "learner = orange.classification.CN2Learner()\n",
    "classifier = learner(XTrainTable_)"
   ]
  },
  {
   "cell_type": "code",
   "execution_count": 80,
   "metadata": {},
   "outputs": [],
   "source": [
    "learner2 = orange.classification.CN2SDLearner()\n",
    "classifier2 = learner2(XTrainTable_)"
   ]
  },
  {
   "cell_type": "code",
   "execution_count": 73,
   "metadata": {},
   "outputs": [],
   "source": [
    "YTest = XTest_['label'].values\n",
    "del XTest_['label']"
   ]
  },
  {
   "cell_type": "code",
   "execution_count": 74,
   "metadata": {},
   "outputs": [],
   "source": [
    "cPred = classifier(XTest_.values)"
   ]
  },
  {
   "cell_type": "code",
   "execution_count": 75,
   "metadata": {},
   "outputs": [],
   "source": [
    "output = []\n",
    "for cl in YTest:\n",
    "    if cl == 'legit':\n",
    "        output = np.append(output, 1)\n",
    "    else :\n",
    "        output = np.append(output, 0)"
   ]
  },
  {
   "cell_type": "code",
   "execution_count": 76,
   "metadata": {},
   "outputs": [
    {
     "name": "stdout",
     "output_type": "stream",
     "text": [
      "Accuracy:  0.4968369829683698\n"
     ]
    }
   ],
   "source": [
    "print(\"Accuracy: \", metrics.accuracy_score(output, cPred))"
   ]
  },
  {
   "cell_type": "code",
   "execution_count": 83,
   "metadata": {},
   "outputs": [],
   "source": [
    "c2Pred = classifier2(XTest_.values)"
   ]
  },
  {
   "cell_type": "code",
   "execution_count": 85,
   "metadata": {},
   "outputs": [
    {
     "name": "stdout",
     "output_type": "stream",
     "text": [
      "Accuracy:  0.8583941605839416\n"
     ]
    }
   ],
   "source": [
    "print(\"Accuracy: \", metrics.accuracy_score(output, c2Pred))"
   ]
  },
  {
   "cell_type": "code",
   "execution_count": 81,
   "metadata": {},
   "outputs": [],
   "source": [
    "c_values = XTrainTable_.domain.class_var.values"
   ]
  },
  {
   "cell_type": "code",
   "execution_count": 88,
   "metadata": {},
   "outputs": [
    {
     "name": "stdout",
     "output_type": "stream",
     "text": [
      "CN2-SD Confusion Matrix : \n",
      "{TP : 944, FN : 90,\n",
      " FP : 201, TN : 820}\n"
     ]
    }
   ],
   "source": [
    "clMatrix = metrics.confusion_matrix(output, c2Pred).ravel()\n",
    "print(\"CN2-SD Confusion Matrix : \\n{TP : %d, FN : %d,\\n FP : %d, TN : %d}\" % (clMatrix[0], clMatrix[1], clMatrix[2], clMatrix[3]))"
   ]
  },
  {
   "cell_type": "code",
   "execution_count": 89,
   "metadata": {},
   "outputs": [
    {
     "name": "stdout",
     "output_type": "stream",
     "text": [
      "CN2-SD Classification Report : \n",
      "               precision    recall  f1-score   support\n",
      "\n",
      "       fraud       0.82      0.91      0.87      1034\n",
      "       legit       0.90      0.80      0.85      1021\n",
      "\n",
      "   micro avg       0.86      0.86      0.86      2055\n",
      "   macro avg       0.86      0.86      0.86      2055\n",
      "weighted avg       0.86      0.86      0.86      2055\n",
      "\n"
     ]
    }
   ],
   "source": [
    "print(\"CN2-SD Classification Report : \\n\", metrics.classification_report(output, c2Pred, target_names=c_values))"
   ]
  },
  {
   "cell_type": "code",
   "execution_count": 90,
   "metadata": {},
   "outputs": [],
   "source": [
    "fpr, tpr, thresh = metrics.roc_curve(output, c2Pred)\n",
    "auc = metrics.roc_auc_score(output, c2Pred)"
   ]
  },
  {
   "cell_type": "code",
   "execution_count": 91,
   "metadata": {},
   "outputs": [
    {
     "name": "stdout",
     "output_type": "stream",
     "text": [
      "[0.         0.08704062 1.        ] [0.         0.80313418 1.        ] [2 1 0] 0.8580467816094131\n"
     ]
    }
   ],
   "source": [
    "print(fpr, tpr, thresh, auc)"
   ]
  },
  {
   "cell_type": "code",
   "execution_count": null,
   "metadata": {},
   "outputs": [],
   "source": []
  }
 ],
 "metadata": {
  "kernelspec": {
   "display_name": "Python 3",
   "language": "python",
   "name": "python3"
  },
  "language_info": {
   "codemirror_mode": {
    "name": "ipython",
    "version": 3
   },
   "file_extension": ".py",
   "mimetype": "text/x-python",
   "name": "python",
   "nbconvert_exporter": "python",
   "pygments_lexer": "ipython3",
   "version": "3.7.2"
  }
 },
 "nbformat": 4,
 "nbformat_minor": 2
}
